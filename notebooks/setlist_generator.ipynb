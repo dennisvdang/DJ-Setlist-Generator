{
 "cells": [
  {
   "cell_type": "code",
   "execution_count": 5,
   "metadata": {},
   "outputs": [],
   "source": [
    "import pandas as pd\n",
    "import json\n",
    "import spotipy\n",
    "from spotipy.oauth2 import SpotifyClientCredentials\n",
    "import tqdm\n",
    "import time\n",
    "import random\n",
    "import re\n",
    "import os"
   ]
  },
  {
   "cell_type": "code",
   "execution_count": null,
   "metadata": {},
   "outputs": [],
   "source": [
    "# Load Spotify credentials\n",
    "credentials_path = r'../creds/spotify_credentials.json'  # Path to your spotify_credentials.json file\n",
    "\n",
    "with open(credentials_path, 'r') as file:\n",
    "    creds = json.load(file)\n",
    "\n",
    "# Initialize Spotify client\n",
    "auth_manager = SpotifyClientCredentials(client_id=creds['client_id'], client_secret=creds['client_secret'])\n",
    "sp = spotipy.Spotify(auth_manager=auth_manager)"
   ]
  },
  {
   "cell_type": "code",
   "execution_count": null,
   "metadata": {},
   "outputs": [],
   "source": [
    "# From global variables\n",
    "client_id = os.getenv('SPOTIPY_CLIENT_ID')\n",
    "client_secret = os.getenv('SPOTIPY_CLIENT_SECRET')\n",
    "\n",
    "\n",
    "auth_manager = SpotifyClientCredentials(client_id=client_id, client_secret=client_secret)\n",
    "sp = spotipy.Spotify(auth_manager=auth_manager)"
   ]
  },
  {
   "cell_type": "code",
   "execution_count": 9,
   "metadata": {},
   "outputs": [],
   "source": [
    "client_id"
   ]
  },
  {
   "cell_type": "code",
   "execution_count": 4,
   "metadata": {},
   "outputs": [
    {
     "ename": "NameError",
     "evalue": "name 'sp' is not defined",
     "output_type": "error",
     "traceback": [
      "\u001b[0;31m---------------------------------------------------------------------------\u001b[0m",
      "\u001b[0;31mNameError\u001b[0m                                 Traceback (most recent call last)",
      "Cell \u001b[0;32mIn[4], line 41\u001b[0m\n\u001b[1;32m     39\u001b[0m \u001b[38;5;66;03m# Get playlist tracks and features\u001b[39;00m\n\u001b[1;32m     40\u001b[0m playlist_url \u001b[38;5;241m=\u001b[39m \u001b[38;5;124m'\u001b[39m\u001b[38;5;124mhttps://open.spotify.com/playlist/3B0Xfhq3aaUZk75wHAZrCs?si=eb8b4aaa1ec04ce3\u001b[39m\u001b[38;5;124m'\u001b[39m\n\u001b[0;32m---> 41\u001b[0m playlist \u001b[38;5;241m=\u001b[39m get_playlist_info(\u001b[43msp\u001b[49m, playlist_url)\n\u001b[1;32m     42\u001b[0m playlist\n",
      "\u001b[0;31mNameError\u001b[0m: name 'sp' is not defined"
     ]
    }
   ],
   "source": [
    "def get_playlist_info(sp, playlist_url):\n",
    "    \"\"\"Retrieve tracks, audio features, and metadata from a Spotify playlist URL.\"\"\"\n",
    "    # Extract playlist ID from URL\n",
    "    playlist_id = playlist_url.split('/')[-1].split('?')[0]\n",
    "\n",
    "    # Get playlist metadata\n",
    "    playlist_metadata = sp.playlist(playlist_id)\n",
    "    playlist_name = playlist_metadata['name']\n",
    "\n",
    "    # Get playlist tracks\n",
    "    playlist_tracks = sp.playlist_tracks(playlist_id)['items']\n",
    "    tracks = []\n",
    "\n",
    "    for track in playlist_tracks:\n",
    "        track_name = track['track']['name']\n",
    "        artists = []\n",
    "        for artist in track['track']['artists']:\n",
    "            artist_name = artist['name']\n",
    "            artist_id = artist['id']\n",
    "            artist_genres = sp.artist(artist_id)['genres']\n",
    "            artists.append({'artist_name': artist_name, 'artist_genres': artist_genres})\n",
    "        track_id = track['track']['id']\n",
    "\n",
    "        # Get audio features for the track\n",
    "        audio_features_dict = sp.audio_features(track_id)[0]\n",
    "        audio_features_dict = {k: v for k, v in audio_features_dict.items() if k not in ['type', 'analysis_url', 'duration_ms']}\n",
    "\n",
    "        tracks.append({\n",
    "            'track_name': track_name,\n",
    "            'artists': artists,\n",
    "            'audio_features': audio_features_dict\n",
    "        })\n",
    "\n",
    "    return {\n",
    "        'playlist_name': playlist_name,\n",
    "        'tracks': tracks\n",
    "    }\n",
    "\n",
    "# Get playlist tracks and features\n",
    "playlist_url = 'https://open.spotify.com/playlist/3B0Xfhq3aaUZk75wHAZrCs?si=eb8b4aaa1ec04ce3'\n",
    "playlist = get_playlist_info(sp, playlist_url)\n",
    "playlist"
   ]
  },
  {
   "cell_type": "code",
   "execution_count": 13,
   "metadata": {},
   "outputs": [
    {
     "name": "stdout",
     "output_type": "stream",
     "text": [
      "The first song in the setlist is: Going Down Slow\n"
     ]
    }
   ],
   "source": [
    "def select_first_song(playlist_data, randomize=True, track_name=None):\n",
    "    \"\"\"\n",
    "    Selects the first song from the provided playlist data.\n",
    "\n",
    "    Args:\n",
    "        playlist_data (dict): A dictionary containing the playlist name and tracks.\n",
    "        randomize (bool, optional): If True, randomly selects the first song. If False, requires a track_name.\n",
    "        track_name (str, optional): The name of the track to select as the first song. Required if randomize is False.\n",
    "\n",
    "    Returns:\n",
    "        dict: A dictionary representing the first song in the setlist.\n",
    "\n",
    "    Raises:\n",
    "        ValueError: If randomize is False and track_name is not provided or not found in the playlist.\n",
    "    \"\"\"\n",
    "    tracks = playlist_data['tracks']\n",
    "\n",
    "    if randomize:\n",
    "        first_song = random.choice(tracks)\n",
    "    else:\n",
    "        if not track_name:\n",
    "            raise ValueError(\"If randomize is False, track_name must be provided.\")\n",
    "\n",
    "        for track in tracks:\n",
    "            if track['track_name'] == track_name:\n",
    "                first_song = track\n",
    "                break\n",
    "        else:\n",
    "            raise ValueError(f\"Track '{track_name}' not found in the playlist.\")\n",
    "\n",
    "    return first_song\n",
    "\n",
    "first_song = select_first_song(playlist, randomize=True)\n",
    "print(f\"The first song in the setlist is: {first_song['track_name']}\")"
   ]
  },
  {
   "cell_type": "code",
   "execution_count": 17,
   "metadata": {},
   "outputs": [],
   "source": [
    "def get_camelot_key(key, mode):\n",
    "    \"\"\"\n",
    "    Convert Spotify key and mode values to Camelot notation.\n",
    "\n",
    "    Args:\n",
    "        key (int): The key value from Spotify (0-11).\n",
    "        mode (int): The mode value from Spotify (0 for minor, 1 for major).\n",
    "\n",
    "    Returns:\n",
    "        str: The key in Camelot notation (e.g., 'C', 'C#', 'Dm').\n",
    "    \"\"\"\n",
    "    camelot_keys = ['C', 'C#', 'D', 'D#', 'E', 'F', 'F#', 'G', 'G#', 'A', 'A#', 'B']\n",
    "    camelot_key = camelot_keys[key]\n",
    "    if mode == 0:\n",
    "        camelot_key += 'm'\n",
    "    return camelot_key\n",
    "\n",
    "def get_next_song(playlist, current_song_idx, bpm_range=0.05, key_priority=['same', 'adjacent', 'fifth']):\n",
    "    \"\"\"Get the next song in the setlist based on BPM and key.\"\"\"\n",
    "    current_song = playlist['tracks'][current_song_idx]\n",
    "    current_bpm = current_song['audio_features']['tempo']\n",
    "    current_key = get_camelot_key(current_song['audio_features']['key'], current_song['audio_features']['mode'])\n",
    "    \n",
    "    # Filter songs within BPM range\n",
    "    bpm_min = current_bpm * (1 - bpm_range)\n",
    "    bpm_max = current_bpm * (1 + bpm_range)\n",
    "    candidates = [song for i, song in enumerate(playlist['tracks']) if i != current_song_idx and bpm_min <= song['audio_features']['tempo'] <= bpm_max]\n",
    "    \n",
    "    # Sort candidates by key priority\n",
    "    for priority in key_priority:\n",
    "        if priority == 'same':\n",
    "            key_candidates = [song for song in candidates if get_camelot_key(song['audio_features']['key'], song['audio_features']['mode']) == current_key]\n",
    "            if key_candidates:\n",
    "                return key_candidates\n",
    "        elif priority == 'adjacent':\n",
    "            adjacent_keys = [current_key[0] + str(int(current_key[1:]) + 1), current_key[0] + str(int(current_key[1:]) - 1)]\n",
    "            key_candidates = [song for song in candidates if get_camelot_key(song['audio_features']['key'], song['audio_features']['mode']) in adjacent_keys]\n",
    "            if key_candidates:\n",
    "                return key_candidates\n",
    "        elif priority == 'fifth':\n",
    "            fifth_keys = [current_key[0] + str((int(current_key[1:]) + 7) % 12 + 1), current_key[0] + str((int(current_key[1:]) - 5) % 12 + 1)]\n",
    "            key_candidates = [song for song in candidates if get_camelot_key(song['audio_features']['key'], song['audio_features']['mode']) in fifth_keys]\n",
    "            if key_candidates:\n",
    "                return key_candidates\n",
    "    \n",
    "    # If no match found, return the first candidate\n",
    "    return candidates if candidates else None\n",
    "\n"
   ]
  },
  {
   "cell_type": "code",
   "execution_count": 18,
   "metadata": {},
   "outputs": [
    {
     "ename": "ValueError",
     "evalue": "invalid literal for int() with base 10: ''",
     "output_type": "error",
     "traceback": [
      "\u001b[1;31m---------------------------------------------------------------------------\u001b[0m",
      "\u001b[1;31mValueError\u001b[0m                                Traceback (most recent call last)",
      "Cell \u001b[1;32mIn[18], line 34\u001b[0m\n\u001b[0;32m     30\u001b[0m         current_song_idx \u001b[38;5;241m=\u001b[39m next_song_idx\n\u001b[0;32m     32\u001b[0m     \u001b[38;5;28;01mreturn\u001b[39;00m setlist\n\u001b[1;32m---> 34\u001b[0m \u001b[43mgenerate_setlist\u001b[49m\u001b[43m(\u001b[49m\u001b[43mplaylist\u001b[49m\u001b[43m)\u001b[49m\n",
      "Cell \u001b[1;32mIn[18], line 25\u001b[0m, in \u001b[0;36mgenerate_setlist\u001b[1;34m(playlist_data, randomize_first, track_name, bpm_range, key_priority)\u001b[0m\n\u001b[0;32m     23\u001b[0m current_song_idx \u001b[38;5;241m=\u001b[39m first_song_idx\n\u001b[0;32m     24\u001b[0m \u001b[38;5;28;01mwhile\u001b[39;00m \u001b[38;5;28;01mTrue\u001b[39;00m:\n\u001b[1;32m---> 25\u001b[0m     next_song \u001b[38;5;241m=\u001b[39m \u001b[43mget_next_song\u001b[49m\u001b[43m(\u001b[49m\u001b[43mplaylist_data\u001b[49m\u001b[43m,\u001b[49m\u001b[43m \u001b[49m\u001b[43mcurrent_song_idx\u001b[49m\u001b[43m,\u001b[49m\u001b[43m \u001b[49m\u001b[43mbpm_range\u001b[49m\u001b[43m,\u001b[49m\u001b[43m \u001b[49m\u001b[43mkey_priority\u001b[49m\u001b[43m)\u001b[49m\n\u001b[0;32m     26\u001b[0m     \u001b[38;5;28;01mif\u001b[39;00m next_song \u001b[38;5;129;01mis\u001b[39;00m \u001b[38;5;28;01mNone\u001b[39;00m:\n\u001b[0;32m     27\u001b[0m         \u001b[38;5;28;01mbreak\u001b[39;00m\n",
      "Cell \u001b[1;32mIn[17], line 36\u001b[0m, in \u001b[0;36mget_next_song\u001b[1;34m(playlist, current_song_idx, bpm_range, key_priority)\u001b[0m\n\u001b[0;32m     34\u001b[0m         \u001b[38;5;28;01mreturn\u001b[39;00m key_candidates\n\u001b[0;32m     35\u001b[0m \u001b[38;5;28;01melif\u001b[39;00m priority \u001b[38;5;241m==\u001b[39m \u001b[38;5;124m'\u001b[39m\u001b[38;5;124madjacent\u001b[39m\u001b[38;5;124m'\u001b[39m:\n\u001b[1;32m---> 36\u001b[0m     adjacent_keys \u001b[38;5;241m=\u001b[39m [current_key[\u001b[38;5;241m0\u001b[39m] \u001b[38;5;241m+\u001b[39m \u001b[38;5;28mstr\u001b[39m(\u001b[38;5;28;43mint\u001b[39;49m\u001b[43m(\u001b[49m\u001b[43mcurrent_key\u001b[49m\u001b[43m[\u001b[49m\u001b[38;5;241;43m1\u001b[39;49m\u001b[43m:\u001b[49m\u001b[43m]\u001b[49m\u001b[43m)\u001b[49m \u001b[38;5;241m+\u001b[39m \u001b[38;5;241m1\u001b[39m), current_key[\u001b[38;5;241m0\u001b[39m] \u001b[38;5;241m+\u001b[39m \u001b[38;5;28mstr\u001b[39m(\u001b[38;5;28mint\u001b[39m(current_key[\u001b[38;5;241m1\u001b[39m:]) \u001b[38;5;241m-\u001b[39m \u001b[38;5;241m1\u001b[39m)]\n\u001b[0;32m     37\u001b[0m     key_candidates \u001b[38;5;241m=\u001b[39m [song \u001b[38;5;28;01mfor\u001b[39;00m song \u001b[38;5;129;01min\u001b[39;00m candidates \u001b[38;5;28;01mif\u001b[39;00m get_camelot_key(song[\u001b[38;5;124m'\u001b[39m\u001b[38;5;124maudio_features\u001b[39m\u001b[38;5;124m'\u001b[39m][\u001b[38;5;124m'\u001b[39m\u001b[38;5;124mkey\u001b[39m\u001b[38;5;124m'\u001b[39m], song[\u001b[38;5;124m'\u001b[39m\u001b[38;5;124maudio_features\u001b[39m\u001b[38;5;124m'\u001b[39m][\u001b[38;5;124m'\u001b[39m\u001b[38;5;124mmode\u001b[39m\u001b[38;5;124m'\u001b[39m]) \u001b[38;5;129;01min\u001b[39;00m adjacent_keys]\n\u001b[0;32m     38\u001b[0m     \u001b[38;5;28;01mif\u001b[39;00m key_candidates:\n",
      "\u001b[1;31mValueError\u001b[0m: invalid literal for int() with base 10: ''"
     ]
    }
   ],
   "source": [
    "def generate_setlist(playlist_data, randomize_first=True, track_name=None, bpm_range=0.05, key_priority=['same', 'adjacent', 'fifth']):\n",
    "    \"\"\"\n",
    "    Generate a setlist from the provided playlist data.\n",
    "\n",
    "    Args:\n",
    "        playlist_data (dict): A dictionary containing the playlist name and tracks.\n",
    "        randomize_first (bool, optional): If True, randomly selects the first song. If False, requires a track_name.\n",
    "        track_name (str, optional): The name of the track to select as the first song. Required if randomize_first is False.\n",
    "        bpm_range (float, optional): The range of BPM values to consider for the next song (e.g., 0.05 means ±5% of the current BPM).\n",
    "        key_priority (list, optional): A list of priorities for selecting the next song based on key ('same', 'adjacent', 'fifth').\n",
    "\n",
    "    Returns:\n",
    "        list: A list of dictionaries representing the setlist, where each dictionary contains the track information.\n",
    "    \"\"\"\n",
    "    setlist = []\n",
    "\n",
    "    # Select the first song\n",
    "    first_song = select_first_song(playlist_data, randomize=randomize_first, track_name=track_name)\n",
    "    first_song_idx = playlist_data['tracks'].index(first_song)\n",
    "    setlist.append(first_song)\n",
    "\n",
    "    # Generate the rest of the setlist\n",
    "    current_song_idx = first_song_idx\n",
    "    while True:\n",
    "        next_song = get_next_song(playlist_data, current_song_idx, bpm_range, key_priority)\n",
    "        if next_song is None:\n",
    "            break\n",
    "        next_song_idx = playlist_data['tracks'].index(next_song)\n",
    "        setlist.append(next_song)\n",
    "        current_song_idx = next_song_idx\n",
    "\n",
    "    return setlist\n",
    "\n",
    "generate_setlist(playlist)\n",
    "\n"
   ]
  },
  {
   "cell_type": "code",
   "execution_count": 20,
   "metadata": {},
   "outputs": [
    {
     "data": {
      "text/plain": [
       "{'track_name': 'Going Down Slow',\n",
       " 'artists': [{'artist_name': 'Exmag',\n",
       "   'artist_genres': ['funk rock', 'livetronica']}],\n",
       " 'audio_features': {'danceability': 0.61,\n",
       "  'energy': 0.661,\n",
       "  'key': 2,\n",
       "  'loudness': -4.892,\n",
       "  'mode': 1,\n",
       "  'speechiness': 0.0423,\n",
       "  'acousticness': 0.00281,\n",
       "  'instrumentalness': 0.0222,\n",
       "  'liveness': 0.123,\n",
       "  'valence': 0.276,\n",
       "  'tempo': 119.99,\n",
       "  'id': '1IUZh86P1U3w8i245mhzJi',\n",
       "  'uri': 'spotify:track:1IUZh86P1U3w8i245mhzJi',\n",
       "  'track_href': 'https://api.spotify.com/v1/tracks/1IUZh86P1U3w8i245mhzJi',\n",
       "  'time_signature': 4}}"
      ]
     },
     "execution_count": 20,
     "metadata": {},
     "output_type": "execute_result"
    }
   ],
   "source": [
    "first_song['track_name']"
   ]
  },
  {
   "cell_type": "code",
   "execution_count": null,
   "metadata": {},
   "outputs": [],
   "source": []
  }
 ],
 "metadata": {
  "kernelspec": {
   "display_name": "mixin",
   "language": "python",
   "name": "python3"
  },
  "language_info": {
   "codemirror_mode": {
    "name": "ipython",
    "version": 3
   },
   "file_extension": ".py",
   "mimetype": "text/x-python",
   "name": "python",
   "nbconvert_exporter": "python",
   "pygments_lexer": "ipython3",
   "version": "3.8.18"
  }
 },
 "nbformat": 4,
 "nbformat_minor": 2
}
